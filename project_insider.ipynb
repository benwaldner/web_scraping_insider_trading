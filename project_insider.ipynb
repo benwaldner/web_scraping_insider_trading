{
 "cells": [
  {
   "cell_type": "markdown",
   "metadata": {},
   "source": [
    "### Selenium Project Insider"
   ]
  },
  {
   "cell_type": "code",
   "execution_count": 241,
   "metadata": {},
   "outputs": [],
   "source": [
    "from selenium import webdriver\n",
    "import csv\n",
    "import re"
   ]
  },
  {
   "cell_type": "code",
   "execution_count": 329,
   "metadata": {},
   "outputs": [],
   "source": [
    "driver = webdriver.Chrome()"
   ]
  },
  {
   "cell_type": "code",
   "execution_count": 330,
   "metadata": {},
   "outputs": [],
   "source": [
    "driver.get('https://www.secform4.com/insider-trading/1270073.htm')"
   ]
  },
  {
   "cell_type": "code",
   "execution_count": 331,
   "metadata": {},
   "outputs": [],
   "source": [
    "data_selection = driver.find_element_by_xpath('//*[@id=\"SecForm4Page\"]/table[2]/tbody/tr/td[1]/form[1]/select/option[14]')\n",
    "data_selection.click()\n"
   ]
  },
  {
   "cell_type": "code",
   "execution_count": 333,
   "metadata": {},
   "outputs": [],
   "source": [
    "data_selection = driver.find_element_by_xpath('//*[@id=\"SecForm4Page\"]/table[2]/tbody/tr/td[1]/form[1]/input[1]')\n",
    "data_selection.click()\n",
    "\n",
    "\n",
    "\n"
   ]
  },
  {
   "cell_type": "code",
   "execution_count": 348,
   "metadata": {},
   "outputs": [],
   "source": [
    "pagecount = driver.find_element_by_xpath('//*[@id=\"SecForm4Page\"]/div[3]/font').text\n",
    "pagecount = pagecount.split(',')\n",
    "pagecount = int(pagecount[-2].strip())\n",
    "\n"
   ]
  },
  {
   "cell_type": "code",
   "execution_count": 349,
   "metadata": {},
   "outputs": [],
   "source": [
    "csv_file = open('insiders.csv','w',encoding='utf-8',newline='',)\n",
    "writer = csv.writer(csv_file)"
   ]
  },
  {
   "cell_type": "code",
   "execution_count": 233,
   "metadata": {},
   "outputs": [],
   "source": [
    "# rows = driver.find_elements_by_xpath('//*[@id=\"filing_table\"]//tbody//tr')\n",
    "# print(len(rows))\n",
    "# test = rows[0].find_element_by_xpath('//*[@id=\"filing_table\"]/tbody/tr[1]').text\n",
    "# # test = test.split('\\n')\n",
    "# test.split('\\n')[1].split(' ')[0]\n"
   ]
  },
  {
   "cell_type": "code",
   "execution_count": 423,
   "metadata": {},
   "outputs": [
    {
     "data": {
      "text/plain": [
       "['View']"
      ]
     },
     "execution_count": 423,
     "metadata": {},
     "output_type": "execute_result"
    }
   ],
   "source": [
    "\n",
    "rows = driver.find_elements_by_xpath('//*[@id=\"filing_table\"]//tr')\n",
    "\n",
    "test = rows[25].find_element_by_xpath('.//td[10]').text\n",
    "test.split('\\n')\n",
    "# test.split('\\n')[-2:-len(test.split('\\n'))-1:-1]\n",
    "\n",
    "# # ''.join(re.findall('[a-zA-Z &-]',test.split('\\n')[3])).strip()\n",
    "\n",
    "# # ' '.join(test.split('\\n')[2].split()[6:])\n",
    "\n",
    "# test.split('\\n')[3].split()[-4]\n",
    "\n",
    "\n",
    "\n"
   ]
  },
  {
   "cell_type": "code",
   "execution_count": null,
   "metadata": {},
   "outputs": [],
   "source": []
  },
  {
   "cell_type": "code",
   "execution_count": 350,
   "metadata": {},
   "outputs": [],
   "source": [
    "index = 0"
   ]
  },
  {
   "cell_type": "code",
   "execution_count": 351,
   "metadata": {},
   "outputs": [
    {
     "name": "stdout",
     "output_type": "stream",
     "text": [
      "Scraping page number1\n",
      "Scraping page number2\n",
      "Scraping page number3\n",
      "Scraping page number4\n",
      "Scraping page number5\n",
      "Scraping page number6\n",
      "Scraping page number7\n",
      "Scraping page number8\n",
      "Scraping page number9\n",
      "Scraping page number10\n",
      "Scraping page number11\n",
      "Scraping page number12\n"
     ]
    }
   ],
   "source": [
    "while index <= pagecount:\n",
    "    \n",
    "    print('Scraping page number'+str(index))\n",
    "    index += 1\n",
    "    \n",
    "    rows = driver.find_elements_by_xpath('//*[@id=\"filing_table\"]//tr')\n",
    "    \n",
    "    for item in range(1,len(rows)+1):\n",
    "        row_dict = {}\n",
    "                \n",
    "        row_xpath = '//*[@id=\"filing_table\"]/tbody/tr[{}]'.format(str(item))\n",
    "        row = rows[0].find_element_by_xpath(row_xpath).text\n",
    "        row = row.split('\\n')\n",
    "\n",
    "                \n",
    "        transaction_date = row[0]\n",
    "        transaction_type = row[1].split()[0]\n",
    "        company_name = ' '.join(row[2].split(' ')[2:4])\n",
    "        ticker = row[2].split()[5]\n",
    "        insider_name = ' '.join(row[2].split()[6:])\n",
    "        insider_position = ''.join(re.findall('[a-zA-Z &-]',row[3])).strip()\n",
    "        shares_traded = row[3].split()[-4] \n",
    "        avg_price = row[3].split()[-3]\n",
    "        total_price = row[3].split()[-2]\n",
    "        shares_owned = row[3].split()[-1]\n",
    "            \n",
    "        row_dict['transaction_date'] = transaction_date\n",
    "        row_dict['transaction_type'] = transaction_type\n",
    "        row_dict['company_name'] = company_name\n",
    "        row_dict['ticker'] = ticker\n",
    "        row_dict['insider_name'] = insider_name\n",
    "        row_dict['insider_position'] = insider_position\n",
    "        row_dict['shares_traded'] = shares_traded\n",
    "        row_dict['avg_price'] = avg_price\n",
    "        row_dict['total_price'] = total_price\n",
    "        row_dict['shares_owned'] = shares_owned\n",
    "        writer.writerow(row_dict.values())\n",
    "        \n",
    "        \n",
    "            \n",
    "    next_button = driver.find_element_by_link_text('Next')\n",
    "    next_button.click()\n",
    "\n",
    "csv_file.close()\n",
    "# driver.close()\n",
    "            \n",
    "        \n",
    "        "
   ]
  }
 ],
 "metadata": {
  "kernelspec": {
   "display_name": "Python 3",
   "language": "python",
   "name": "python3"
  },
  "language_info": {
   "codemirror_mode": {
    "name": "ipython",
    "version": 3
   },
   "file_extension": ".py",
   "mimetype": "text/x-python",
   "name": "python",
   "nbconvert_exporter": "python",
   "pygments_lexer": "ipython3",
   "version": "3.7.3"
  }
 },
 "nbformat": 4,
 "nbformat_minor": 2
}
