{
 "cells": [
  {
   "cell_type": "code",
   "execution_count": 1,
   "metadata": {},
   "outputs": [],
   "source": [
    "import pandas as pd\n",
    "from pandas_datareader import data\n",
    "import numpy as np\n",
    "from datetime import datetime\n",
    "from datetime import timedelta\n",
    "import re\n",
    "import math\n",
    "import statsmodels.api as sm\n",
    "import seaborn as sns\n",
    "from matplotlib import pyplot as plt\n",
    "plt.style.use('ggplot')"
   ]
  },
  {
   "cell_type": "code",
   "execution_count": 2,
   "metadata": {},
   "outputs": [],
   "source": [
    "with open('tickers.txt','r') as file:\n",
    "    tickers = file.readlines()\n",
    "    \n",
    "tickers = [item.strip() for item in tickers]"
   ]
  },
  {
   "cell_type": "code",
   "execution_count": 3,
   "metadata": {},
   "outputs": [],
   "source": [
    "columns = ['transaction_date', 'transaction_type', 'company_name',\n",
    "           'ticker', 'name', 'position', 'shares_traded', 'avg_price',\n",
    "           'total_price', 'shares_owned', 'own_type']\n",
    "\n"
   ]
  },
  {
   "cell_type": "code",
   "execution_count": 4,
   "metadata": {},
   "outputs": [],
   "source": [
    "def file_readr(ticker_list):\n",
    "    my_dict = {}\n",
    "    for ticker in ticker_list:\n",
    "        try:\n",
    "            current_df = pd.read_csv(f'./insiders_{ticker}.csv', header = None, names = columns)\n",
    "            if current_df.shape[0] > 0:\n",
    "                my_dict[ticker] = current_df\n",
    "            else:\n",
    "                continue\n",
    "            del current_df\n",
    "        except:\n",
    "            continue\n",
    "    \n",
    "    return my_dict\n",
    "\n"
   ]
  },
  {
   "cell_type": "code",
   "execution_count": 104,
   "metadata": {},
   "outputs": [],
   "source": [
    "dict_insiders = file_readr(tickers)\n",
    "\n",
    "\n"
   ]
  },
  {
   "cell_type": "markdown",
   "metadata": {},
   "source": [
    "### cleaning insiders dictionary "
   ]
  },
  {
   "cell_type": "code",
   "execution_count": 105,
   "metadata": {},
   "outputs": [],
   "source": [
    "\n",
    "def clean_dict(x_dict):\n",
    "    \n",
    "    for ticker in x_dict.keys():\n",
    "        df = x_dict[ticker]\n",
    "    \n",
    "        df.set_index(pd.to_datetime(df.transaction_date), inplace = True)\n",
    "\n",
    "        df.drop('transaction_date',axis=1, inplace = True)\n",
    "    \n",
    "        transactions_list = [item.split('(')[0] for item in df.transaction_type.tolist()]\n",
    "    \n",
    "        df['sale_num'] = [1 if item == 'Sale' else 0 for item in transactions_list]\n",
    "        df['buy_num'] = [1 if item == 'Purchase' else 0 for item in transactions_list]\n",
    "\n",
    "        weekly = df.set_index(df.index-timedelta(days=7)).resample('W-SUN').sum()[['shares_traded','total_price','sale_num','buy_num']]\n",
    "    \n",
    "        weekly.index.name = 'Date'\n",
    "    \n",
    "        x_dict[ticker] = weekly\n",
    "        \n",
    "        print(f'{ticker} cleaned successfully')\n",
    "    \n",
    "    return x_dict\n",
    "    "
   ]
  },
  {
   "cell_type": "code",
   "execution_count": 106,
   "metadata": {},
   "outputs": [
    {
     "name": "stdout",
     "output_type": "stream",
     "text": [
      "FCX cleaned successfully\n",
      "MAS cleaned successfully\n",
      "HAS cleaned successfully\n",
      "AMZN cleaned successfully\n",
      "MU cleaned successfully\n",
      "VAR cleaned successfully\n",
      "PEG cleaned successfully\n",
      "LEG cleaned successfully\n",
      "JBHT cleaned successfully\n",
      "CAT cleaned successfully\n",
      "K cleaned successfully\n",
      "HES cleaned successfully\n",
      "NDAQ cleaned successfully\n",
      "BLL cleaned successfully\n",
      "AAP cleaned successfully\n",
      "VTR cleaned successfully\n",
      "LW cleaned successfully\n",
      "PG cleaned successfully\n",
      "NSC cleaned successfully\n",
      "PBCT cleaned successfully\n",
      "AMAT cleaned successfully\n",
      "MAR cleaned successfully\n",
      "INCY cleaned successfully\n",
      "ORLY cleaned successfully\n",
      "ROL cleaned successfully\n",
      "JWN cleaned successfully\n",
      "NEE cleaned successfully\n",
      "QRVO cleaned successfully\n",
      "CVX cleaned successfully\n",
      "HUM cleaned successfully\n",
      "NBL cleaned successfully\n",
      "BDX cleaned successfully\n",
      "AWK cleaned successfully\n",
      "SJM cleaned successfully\n",
      "PXD cleaned successfully\n",
      "CHD cleaned successfully\n",
      "AMP cleaned successfully\n",
      "DRI cleaned successfully\n",
      "AEE cleaned successfully\n",
      "ABMD cleaned successfully\n",
      "CTXS cleaned successfully\n",
      "HRS cleaned successfully\n",
      "HSY cleaned successfully\n",
      "MDLZ cleaned successfully\n",
      "UNH cleaned successfully\n",
      "UDR cleaned successfully\n",
      "CCI cleaned successfully\n",
      "VRSK cleaned successfully\n",
      "AEP cleaned successfully\n",
      "JNJ cleaned successfully\n",
      "LOW cleaned successfully\n",
      "CMCSA cleaned successfully\n",
      "MMM cleaned successfully\n",
      "PPG cleaned successfully\n",
      "ADP cleaned successfully\n",
      "AJG cleaned successfully\n",
      "EW cleaned successfully\n",
      "AZO cleaned successfully\n",
      "SNA cleaned successfully\n",
      "ALB cleaned successfully\n",
      "CHRW cleaned successfully\n",
      "UPS cleaned successfully\n",
      "UAL cleaned successfully\n",
      "FDX cleaned successfully\n",
      "DISH cleaned successfully\n",
      "MTD cleaned successfully\n",
      "FAST cleaned successfully\n",
      "ROP cleaned successfully\n",
      "LNT cleaned successfully\n",
      "XOM cleaned successfully\n",
      "WU cleaned successfully\n",
      "FLR cleaned successfully\n",
      "PRU cleaned successfully\n",
      "COO cleaned successfully\n",
      "CPRI cleaned successfully\n",
      "CSX cleaned successfully\n",
      "ABT cleaned successfully\n"
     ]
    }
   ],
   "source": [
    "dict_insiders = clean_dict(dict_insiders)"
   ]
  },
  {
   "cell_type": "markdown",
   "metadata": {},
   "source": [
    "### cleaning stock price data"
   ]
  },
  {
   "cell_type": "code",
   "execution_count": 27,
   "metadata": {},
   "outputs": [],
   "source": [
    "def get_stocks(x_dict):\n",
    "    stocks_dict = {}\n",
    "    \n",
    "    for ticker in x_dict.keys():\n",
    "        start_date = str(x_dict[ticker].index[0]).split()[0]\n",
    "        end_date = str(x_dict[ticker].index[-1]).split()[0]\n",
    "        \n",
    "        try:\n",
    "            stocks_df = data.DataReader(ticker,'yahoo',start_date,end_date)\n",
    "        except:\n",
    "            continue\n",
    "        \n",
    "        stocks_dict[ticker]=stocks_df\n",
    "        \n",
    "    return stocks_dict\n",
    "        \n",
    "        "
   ]
  },
  {
   "cell_type": "code",
   "execution_count": 31,
   "metadata": {},
   "outputs": [],
   "source": [
    "def clean_stocks(x_dict):    \n",
    "    stocks_dict = {}\n",
    "    \n",
    "    for item in x_dict.keys():\n",
    "        ticker = item\n",
    "        stocks_df = x_dict[ticker]\n",
    "        stocks_df['Return'] = stocks_df['Adj Close'].diff()\n",
    "        \n",
    "        stocks_weekly = stocks_df.set_index(stocks_df.index-timedelta(days=7)).resample('W-SUN').std()[['Return']]\n",
    "        \n",
    "        stocks_dict[ticker]=stocks_weekly\n",
    "        \n",
    "    return stocks_dict"
   ]
  },
  {
   "cell_type": "code",
   "execution_count": 62,
   "metadata": {},
   "outputs": [],
   "source": [
    "stocks_dict_pre = get_stocks(dict_insiders)"
   ]
  },
  {
   "cell_type": "code",
   "execution_count": 64,
   "metadata": {},
   "outputs": [],
   "source": [
    "stocks_dict = clean_stocks(stocks_dict_pre)"
   ]
  },
  {
   "cell_type": "code",
   "execution_count": 83,
   "metadata": {},
   "outputs": [
    {
     "data": {
      "text/plain": [
       "False"
      ]
     },
     "execution_count": 83,
     "metadata": {},
     "output_type": "execute_result"
    }
   ],
   "source": []
  },
  {
   "cell_type": "markdown",
   "metadata": {},
   "source": [
    "#### merging and cleaning insider & stock data"
   ]
  },
  {
   "cell_type": "code",
   "execution_count": 159,
   "metadata": {},
   "outputs": [],
   "source": [
    "def merge_dicts(x,y):\n",
    "    full_dict = {}\n",
    "    x_dict = x\n",
    "    y_dict = y\n",
    "    \n",
    "    \n",
    "    for ticker in x_dict.keys():\n",
    "        \n",
    "        if ticker not in y_dict.keys():\n",
    "            continue\n",
    "            \n",
    "        else:\n",
    "            \n",
    "            index = [item for item in list(zip(x_dict[ticker].index,y_dict[ticker].index))]\n",
    "            index_test = all([item[0] == item[1] for item in index])\n",
    "            \n",
    "            if index_test:\n",
    "                index = [item[0] for item in index]\n",
    "                \n",
    "                try:\n",
    "                    \n",
    "                    left = x_dict[ticker].loc[index]\n",
    "                    right = y_dict[ticker].loc[index]\n",
    "\n",
    "                    full_df = pd.merge(left,right, on=left.index)\n",
    "\n",
    "                    full_df = full_df.set_index('key_0')\n",
    "\n",
    "                    full_df.index.name = 'Date'\n",
    "\n",
    "                    full_df.sale_num[full_df.sale_num > 0] = 1\n",
    "\n",
    "                    full_df.buy_num[full_df.buy_num>0] = 1\n",
    "\n",
    "                    full_df['risk_dummy'] = np.where(full_df.Return > 1.5, 1, 0)\n",
    "\n",
    "                    full_dict[ticker]=full_df\n",
    "\n",
    "                except:\n",
    "                    print(f'error on ticker:{ticker}')\n",
    "            \n",
    "    return full_dict\n",
    "        \n",
    "        \n",
    "        "
   ]
  },
  {
   "cell_type": "code",
   "execution_count": 160,
   "metadata": {},
   "outputs": [
    {
     "name": "stderr",
     "output_type": "stream",
     "text": [
      "/Users/mdrozdov/anaconda3/lib/python3.7/site-packages/ipykernel_launcher.py:31: SettingWithCopyWarning: \n",
      "A value is trying to be set on a copy of a slice from a DataFrame\n",
      "\n",
      "See the caveats in the documentation: http://pandas.pydata.org/pandas-docs/stable/indexing.html#indexing-view-versus-copy\n",
      "/Users/mdrozdov/anaconda3/lib/python3.7/site-packages/ipykernel_launcher.py:33: SettingWithCopyWarning: \n",
      "A value is trying to be set on a copy of a slice from a DataFrame\n",
      "\n",
      "See the caveats in the documentation: http://pandas.pydata.org/pandas-docs/stable/indexing.html#indexing-view-versus-copy\n"
     ]
    }
   ],
   "source": [
    "full_dict = merge_dicts(dict_insiders,stocks_dict)"
   ]
  },
  {
   "cell_type": "code",
   "execution_count": null,
   "metadata": {},
   "outputs": [],
   "source": [
    "### plotting insider trades"
   ]
  },
  {
   "cell_type": "code",
   "execution_count": null,
   "metadata": {},
   "outputs": [],
   "source": [
    "\n",
    "def plot_dict(insider_dict,stocks_dict):\n",
    "    plt.style.use('bmh')\n",
    "    fig = plt.figure(figsize=(20,15))\n",
    "    \n",
    "    for item in insider_dict.keys():\n",
    "        \n",
    "        ticker = item\n",
    "        \n",
    "        if ticker not in stocks_dict.keys():\n",
    "            \n",
    "            raise ValueError('Keys must match in both dictionaries')\n",
    "            \n",
    "        else:\n",
    "            \n",
    "            stock_df = stocks_dict[ticker]\n",
    "            insider_df = insider_dict[ticker]\n",
    "            \n",
    "            sns.lineplot(x=stock_df.index,y=stock_df['Adj Close'])\n",
    "            for x in insider_df.index.tolist():\n",
    "                plt.axvline(x,linestyle=':',linewidth=0.1,c='b')\n",
    "                    \n",
    "        "
   ]
  },
  {
   "cell_type": "code",
   "execution_count": null,
   "metadata": {},
   "outputs": [],
   "source": [
    "plot_dict(dict_insiders,stocks_dict_pre)"
   ]
  },
  {
   "cell_type": "markdown",
   "metadata": {},
   "source": [
    "### fitting logistic models"
   ]
  },
  {
   "cell_type": "code",
   "execution_count": null,
   "metadata": {},
   "outputs": [],
   "source": [
    "def logit_dict(x_dict):\n",
    "    fit_dict = {}\n",
    "    \n",
    "    for item in x_dict.keys():\n",
    "        \n",
    "        ticker = item\n",
    "        print(ticker)\n",
    "        df = x_dict[ticker]\n",
    "        \n",
    "        X = df[['shares_traded','sale_num','buy_num']]\n",
    "        Y = df.return_dummy\n",
    "        logit_model = sm.Logit(Y,X)\n",
    "        result = logit_model.fit()\n",
    "        \n",
    "        fit_dict[ticker]=result\n",
    "        \n",
    "        \n",
    "    return fit_dict"
   ]
  },
  {
   "cell_type": "code",
   "execution_count": null,
   "metadata": {},
   "outputs": [],
   "source": [
    "sm.Logit().get"
   ]
  },
  {
   "cell_type": "code",
   "execution_count": null,
   "metadata": {},
   "outputs": [],
   "source": [
    "models_dict = logit_dict(full_dict)\n",
    "\n"
   ]
  },
  {
   "cell_type": "code",
   "execution_count": null,
   "metadata": {},
   "outputs": [],
   "source": [
    "for key,value in models_dict.items():\n",
    "    print(key)\n",
    "    print('-'*30)\n",
    "    print(value.pvalues)\n",
    "    print('*'*30)\n",
    "\n",
    "\n"
   ]
  }
 ],
 "metadata": {
  "kernelspec": {
   "display_name": "Python 3",
   "language": "python",
   "name": "python3"
  },
  "language_info": {
   "codemirror_mode": {
    "name": "ipython",
    "version": 3
   },
   "file_extension": ".py",
   "mimetype": "text/x-python",
   "name": "python",
   "nbconvert_exporter": "python",
   "pygments_lexer": "ipython3",
   "version": "3.7.3"
  }
 },
 "nbformat": 4,
 "nbformat_minor": 4
}
