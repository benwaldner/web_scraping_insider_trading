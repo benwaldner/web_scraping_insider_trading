{
 "cells": [
  {
   "cell_type": "markdown",
   "metadata": {},
   "source": [
    "### Project Insider - Selenium Scrape"
   ]
  },
  {
   "cell_type": "code",
   "execution_count": 2,
   "metadata": {},
   "outputs": [],
   "source": [
    "from selenium import webdriver\n",
    "import csv\n",
    "import re"
   ]
  },
  {
   "cell_type": "code",
   "execution_count": 132,
   "metadata": {},
   "outputs": [],
   "source": [
    "driver = webdriver.Chrome()"
   ]
  },
  {
   "cell_type": "code",
   "execution_count": 133,
   "metadata": {},
   "outputs": [],
   "source": [
    "driver.get('https://www.secform4.com/insider-trading/1270073.htm')"
   ]
  },
  {
   "cell_type": "code",
   "execution_count": 134,
   "metadata": {},
   "outputs": [],
   "source": [
    "data_selection = driver.find_element_by_xpath('//*[@id=\"SecForm4Page\"]/table[2]/tbody/tr/td[1]/form[1]/select/option[14]')\n",
    "data_selection.click()\n"
   ]
  },
  {
   "cell_type": "code",
   "execution_count": 135,
   "metadata": {},
   "outputs": [],
   "source": [
    "data_selection = driver.find_element_by_xpath('//*[@id=\"SecForm4Page\"]/table[2]/tbody/tr/td[1]/form[1]/input[1]')\n",
    "data_selection.click()\n",
    "\n",
    "\n",
    "\n"
   ]
  },
  {
   "cell_type": "code",
   "execution_count": 136,
   "metadata": {},
   "outputs": [],
   "source": [
    "pagecount = driver.find_element_by_xpath('//*[@id=\"SecForm4Page\"]/div[3]/font').text\n",
    "pagecount = pagecount.split(',')\n",
    "pagecount = int(pagecount[-2].strip())\n",
    "\n"
   ]
  },
  {
   "cell_type": "code",
   "execution_count": 137,
   "metadata": {},
   "outputs": [],
   "source": [
    "csv_file = open('insiders.csv','w',encoding='utf-8',newline='',)\n",
    "writer = csv.writer(csv_file)"
   ]
  },
  {
   "cell_type": "code",
   "execution_count": 233,
   "metadata": {},
   "outputs": [],
   "source": [
    "# rows = driver.find_elements_by_xpath('//*[@id=\"filing_table\"]//tbody//tr')\n",
    "# print(len(rows))\n",
    "# test = rows[0].find_element_by_xpath('//*[@id=\"filing_table\"]/tbody/tr[1]').text\n",
    "# # test = test.split('\\n')\n",
    "# test.split('\\n')[1].split(' ')[0]\n"
   ]
  },
  {
   "cell_type": "code",
   "execution_count": 51,
   "metadata": {},
   "outputs": [
    {
     "data": {
      "text/plain": [
       "['15,688', '(Direct)']"
      ]
     },
     "execution_count": 51,
     "metadata": {},
     "output_type": "execute_result"
    }
   ],
   "source": [
    "\n",
    "# rows = driver.find_elements_by_xpath('//*[@id=\"filing_table\"]//tr')\n",
    "\n",
    "\n",
    "# test = rows[25].find_element_by_xpath('.//td[9]').text\n",
    "# test.split('\\n')\n",
    "\n",
    "# test.split('\\n')[-2:-len(test.split('\\n'))-1:-1]\n",
    "\n",
    "# # ''.join(re.findall('[a-zA-Z &-]',test.split('\\n')[3])).strip()\n",
    "\n",
    "# # ' '.join(test.split('\\n')[2].split()[6:])\n",
    "\n",
    "# test.split('\\n')[3].split()[-4]\n",
    "\n",
    "\n",
    "\n"
   ]
  },
  {
   "cell_type": "code",
   "execution_count": 114,
   "metadata": {},
   "outputs": [
    {
     "data": {
      "text/plain": [
       "'Direct'"
      ]
     },
     "execution_count": 114,
     "metadata": {},
     "output_type": "execute_result"
    }
   ],
   "source": [
    "# row_list = []\n",
    "# rows = driver.find_elements_by_xpath('//*[@id=\"filing_table\"]//tr')\n",
    "\n",
    "# for i in range(1,10):\n",
    "#     row_xpath = './/td[{}]'.format(str(i))\n",
    "#     row = rows[2].find_element_by_xpath(row_xpath).text\n",
    "#     row_list.append(row)\n",
    "\n",
    "# row_list[8].split()[1].strip('()')"
   ]
  },
  {
   "cell_type": "code",
   "execution_count": null,
   "metadata": {},
   "outputs": [],
   "source": []
  },
  {
   "cell_type": "code",
   "execution_count": 139,
   "metadata": {},
   "outputs": [],
   "source": [
    "index = 0"
   ]
  },
  {
   "cell_type": "code",
   "execution_count": 140,
   "metadata": {},
   "outputs": [
    {
     "name": "stdout",
     "output_type": "stream",
     "text": [
      "Scraping page number0\n",
      "Scraping page number1\n",
      "Scraping page number2\n",
      "Scraping page number3\n",
      "Scraping page number4\n",
      "Scraping page number5\n",
      "Scraping page number6\n",
      "Scraping page number7\n",
      "Scraping page number8\n",
      "Scraping page number9\n",
      "Scraping page number10\n",
      "Scraping page number11\n",
      "Scraping page number12\n"
     ]
    }
   ],
   "source": [
    "while index <= pagecount:\n",
    "    \n",
    "    print('Scraping page number'+str(index))\n",
    "    index += 1\n",
    "    \n",
    "    rows = driver.find_elements_by_xpath('//*[@id=\"filing_table\"]//tr')\n",
    "    rows = rows[1:]\n",
    "    for item in rows:\n",
    "        row_list = []\n",
    "        row_dict = {}\n",
    "        \n",
    "        for i in range(1,10):\n",
    "            \n",
    "                \n",
    "            row_xpath = './/td[{}]'.format(str(i))\n",
    "            row = item.find_element_by_xpath(row_xpath).text\n",
    "            row_list.append(row)\n",
    "                \n",
    "        transaction_date = row_list[0].split()[0]\n",
    "        transaction_type = row_list[0].split()[1]\n",
    "        company_name = ' '.join(row_list[2].split())\n",
    "        ticker = row_list[3]\n",
    "       \n",
    "        if row_list[4].lower().find('orbimed') != -1:\n",
    "            insider_name = 'OrbiMed'\n",
    "        else:\n",
    "            insider_name = ' '.join(row_list[4].split('\\n')[-2:-len(row_list[4])-1:-1])\n",
    "        \n",
    "        insider_position = row_list[4].split('\\n')[-1]\n",
    "        shares_traded = int(row_list[5].replace(',',''))\n",
    "        avg_price = float(row_list[6].replace('$',''))\n",
    "        total_price = float(row_list[7].replace('$','').replace(',',''))\n",
    "        shares_owned = int(row_list[8].split()[0].replace(',',''))\n",
    "        ownership_type = row_list[8].split()[1].strip('()')\n",
    "            \n",
    "        row_dict['transaction_date'] = transaction_date\n",
    "        row_dict['transaction_type'] = transaction_type\n",
    "        row_dict['company_name'] = company_name\n",
    "        row_dict['ticker'] = ticker\n",
    "        row_dict['insider_name'] = insider_name\n",
    "        row_dict['insider_position'] = insider_position\n",
    "        row_dict['shares_traded'] = shares_traded\n",
    "        row_dict['avg_price'] = avg_price\n",
    "        row_dict['total_price'] = total_price\n",
    "        row_dict['shares_owned'] = shares_owned\n",
    "        row_dict['onwership_type'] = ownership_type\n",
    "        \n",
    "        writer.writerow(row_dict.values())\n",
    "        \n",
    "        \n",
    "    try:\n",
    "        \n",
    "        next_button = driver.find_element_by_link_text('Next')\n",
    "        next_button.click()\n",
    "\n",
    "    except:\n",
    "        \n",
    "        break\n",
    "        \n",
    "csv_file.close()\n",
    "# driver.close()\n",
    "            \n",
    "        \n",
    "        "
   ]
  }
 ],
 "metadata": {
  "kernelspec": {
   "display_name": "Python 3",
   "language": "python",
   "name": "python3"
  },
  "language_info": {
   "codemirror_mode": {
    "name": "ipython",
    "version": 3
   },
   "file_extension": ".py",
   "mimetype": "text/x-python",
   "name": "python",
   "nbconvert_exporter": "python",
   "pygments_lexer": "ipython3",
   "version": "3.7.3"
  }
 },
 "nbformat": 4,
 "nbformat_minor": 2
}
