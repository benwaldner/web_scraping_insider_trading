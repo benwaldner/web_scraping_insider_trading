{
 "cells": [
  {
   "cell_type": "code",
   "execution_count": 343,
   "metadata": {},
   "outputs": [],
   "source": [
    "import pandas as pd\n",
    "from pandas_datareader import data\n",
    "import numpy as np\n",
    "from datetime import datetime\n",
    "from datetime import timedelta\n",
    "import re\n",
    "import math\n",
    "import statsmodels.api as sm\n",
    "import seaborn as sns\n",
    "from matplotlib import pyplot as plt\n",
    "plt.style.use('ggplot')"
   ]
  },
  {
   "cell_type": "code",
   "execution_count": 4,
   "metadata": {},
   "outputs": [],
   "source": [
    "tickers = ['CERN','ETFC','FAST','GRMN','ILMN','ROST',\n",
    "          'VRTX','WLTW','CHTR','CTXS','NFLX']\n",
    "\n",
    "columns = ['transaction_date', 'transaction_type', 'company_name',\n",
    "           'ticker', 'name', 'position', 'shares_traded', 'avg_price',\n",
    "           'total_price', 'shares_owned', 'own_type']\n",
    "\n"
   ]
  },
  {
   "cell_type": "code",
   "execution_count": 278,
   "metadata": {},
   "outputs": [
    {
     "data": {
      "text/plain": [
       "dict_keys(['CERN', 'ETFC', 'FAST', 'GRMN', 'ILMN', 'ROST', 'VRTX', 'WLTW', 'CHTR', 'CTXS', 'NFLX'])"
      ]
     },
     "execution_count": 278,
     "metadata": {},
     "output_type": "execute_result"
    }
   ],
   "source": [
    "\n",
    "\n",
    "dict_insiders = {ticker:pd.read_csv('insiders_{}.csv'.format(ticker),header=None,names=columns) for ticker in tickers}\n",
    "dict_insiders.keys()\n",
    "\n"
   ]
  },
  {
   "cell_type": "markdown",
   "metadata": {},
   "source": [
    "### cleaning insiders dictionary "
   ]
  },
  {
   "cell_type": "code",
   "execution_count": 269,
   "metadata": {},
   "outputs": [],
   "source": [
    "\n",
    "def clean_dict(x_dict):\n",
    "    \n",
    "    for ticker in x_dict.keys():\n",
    "        df = x_dict[ticker]\n",
    "    \n",
    "        df.transaction_type = [item.split('(')[0] for item in df.transaction_type.tolist()]\n",
    "    \n",
    "        df.index = pd.to_datetime(df.transaction_date)\n",
    "    \n",
    "        df = df.drop('transaction_date',axis=1)\n",
    "    \n",
    "        transactions_list = df.transaction_type.tolist()\n",
    "    \n",
    "        df['sale_num'] = [1 if item == 'Sale' else 0 for item in transactions_list]\n",
    "        df['buy_num'] = [1 if item == 'Purchase' else 0 for item in transactions_list]\n",
    "\n",
    "        weekly = df.set_index(df.index-timedelta(days=7)).resample('W-SUN')\n",
    "    \n",
    "        shares_sum = weekly.shares_traded.sum()\n",
    "        total_price = weekly.total_price.sum()\n",
    "        insider_sell = weekly.sale_num.sum()\n",
    "        insider_buy = weekly.buy_num.sum()\n",
    "    \n",
    "        left = pd.merge(shares_sum,total_price,on=shares_sum.index)\n",
    "        right = pd.merge(insider_sell,insider_buy,on=insider_sell.index)\n",
    "\n",
    "        left = left.set_index('key_0')\n",
    "        right = right.set_index('key_0')\n",
    "\n",
    "        agg = pd.merge(left,right,on=left.index)\n",
    "        agg = agg.set_index('key_0')\n",
    "        agg.index.name = 'Date'\n",
    "    \n",
    "        x_dict[ticker] = agg\n",
    "    \n",
    "    "
   ]
  },
  {
   "cell_type": "code",
   "execution_count": 294,
   "metadata": {},
   "outputs": [
    {
     "data": {
      "text/plain": [
       "'2019-06-16'"
      ]
     },
     "execution_count": 294,
     "metadata": {},
     "output_type": "execute_result"
    }
   ],
   "source": [
    "# clean_dict(dict_insiders)\n",
    "\n",
    "\n",
    "str(dict_insiders['CHTR'].index[-1]).split()[0]\n"
   ]
  },
  {
   "cell_type": "markdown",
   "metadata": {},
   "source": [
    "### cleaning stock price data"
   ]
  },
  {
   "cell_type": "code",
   "execution_count": 321,
   "metadata": {},
   "outputs": [],
   "source": [
    "def get_stocks(x_dict):\n",
    "    stocks_dict = {}\n",
    "    \n",
    "    for item in x_dict.keys():\n",
    "        ticker = item\n",
    "        start_date = str(dict_insiders[ticker].index[0]).split()[0]\n",
    "        end_date = str(dict_insiders[ticker].index[-1]).split()[0]\n",
    "        \n",
    "        stocks_df = data.DataReader(ticker,'yahoo',start_date,end_date)\n",
    "        \n",
    "        stocks_dict[ticker]=stocks_df\n",
    "        \n",
    "    return stocks_dict\n",
    "        \n",
    "        "
   ]
  },
  {
   "cell_type": "code",
   "execution_count": 331,
   "metadata": {},
   "outputs": [],
   "source": [
    "def clean_stocks(x_dict):    \n",
    "    stocks_dict = {}\n",
    "    \n",
    "    for item in x_dict.keys():\n",
    "        ticker = item\n",
    "        stocks_df = x_dict[ticker]\n",
    "        stocks_df['Return'] = stocks_df['Adj Close'].diff()\n",
    "        stocks_df['Log_Return'] = [math.log(item) for item in stocks_df['Adj Close'].tolist()]\n",
    "        stocks_df['Log_Return'] = stocks_df['Log_Return'].diff()\n",
    "        \n",
    "        stocks_df_weekly = stocks_df.set_index(stocks_df.index-timedelta(days=7)).resample('W-SUN').sum()[['Volume','Return','Log_Return']]\n",
    "        \n",
    "        stocks_dict[ticker]=stocks_df_weekly\n",
    "        \n",
    "    return stocks_dict"
   ]
  },
  {
   "cell_type": "code",
   "execution_count": 323,
   "metadata": {},
   "outputs": [],
   "source": [
    "stocks_dict_pre = get_stocks(dict_insiders)"
   ]
  },
  {
   "cell_type": "code",
   "execution_count": 332,
   "metadata": {},
   "outputs": [],
   "source": [
    "stocks_dict = clean_stocks(stocks_dict_pre)"
   ]
  },
  {
   "cell_type": "code",
   "execution_count": 333,
   "metadata": {},
   "outputs": [
    {
     "data": {
      "text/plain": [
       "dict_keys(['CERN', 'ETFC', 'FAST', 'GRMN', 'ILMN', 'ROST', 'VRTX', 'WLTW', 'CHTR', 'CTXS', 'NFLX'])"
      ]
     },
     "execution_count": 333,
     "metadata": {},
     "output_type": "execute_result"
    }
   ],
   "source": []
  },
  {
   "cell_type": "markdown",
   "metadata": {},
   "source": [
    "#### merging and cleaning insider & stock data"
   ]
  },
  {
   "cell_type": "code",
   "execution_count": 307,
   "metadata": {},
   "outputs": [],
   "source": [
    "def merge_dicts(x_dict,y_dict):\n",
    "    full_dict = {}\n",
    "    \n",
    "    for item in x_dict.keys():\n",
    "        ticker = item\n",
    "        \n",
    "        if ticker not in y_dict.keys():\n",
    "            raise ValueError('Keys must match in both dictionaries.')\n",
    "        else:\n",
    "            \n",
    "            left = x_dict[ticker]\n",
    "            right = y_dict[ticker]\n",
    "            \n",
    "            full_df = pd.merge(left,right, on=left.index)\n",
    "            full_df = full_df.set_index('key_0')\n",
    "            full_df.index.name = 'Date'\n",
    "            \n",
    "            full_df.sale_num[full_df.sale_num > 0] = 1\n",
    "            full_df.buy_num[full_df.buy_num>0] = 1\n",
    "            full_df['return_dummy'] = full_df.Log_Return\n",
    "            full_df.return_dummy[full_df.return_dummy<0]=0\n",
    "            full_df.return_dummy[full_df.return_dummy>0]=1\n",
    "        \n",
    "            full_dict[ticker]=full_df\n",
    "            \n",
    "    return full_dict\n",
    "        \n",
    "        \n",
    "        "
   ]
  },
  {
   "cell_type": "code",
   "execution_count": 334,
   "metadata": {
    "collapsed": true
   },
   "outputs": [
    {
     "name": "stderr",
     "output_type": "stream",
     "text": [
      "/Users/mdrozdov/anaconda3/lib/python3.7/site-packages/ipykernel_launcher.py:18: SettingWithCopyWarning: \n",
      "A value is trying to be set on a copy of a slice from a DataFrame\n",
      "\n",
      "See the caveats in the documentation: http://pandas.pydata.org/pandas-docs/stable/indexing.html#indexing-view-versus-copy\n",
      "/Users/mdrozdov/anaconda3/lib/python3.7/site-packages/ipykernel_launcher.py:19: SettingWithCopyWarning: \n",
      "A value is trying to be set on a copy of a slice from a DataFrame\n",
      "\n",
      "See the caveats in the documentation: http://pandas.pydata.org/pandas-docs/stable/indexing.html#indexing-view-versus-copy\n",
      "/Users/mdrozdov/anaconda3/lib/python3.7/site-packages/ipykernel_launcher.py:21: SettingWithCopyWarning: \n",
      "A value is trying to be set on a copy of a slice from a DataFrame\n",
      "\n",
      "See the caveats in the documentation: http://pandas.pydata.org/pandas-docs/stable/indexing.html#indexing-view-versus-copy\n",
      "/Users/mdrozdov/anaconda3/lib/python3.7/site-packages/ipykernel_launcher.py:22: SettingWithCopyWarning: \n",
      "A value is trying to be set on a copy of a slice from a DataFrame\n",
      "\n",
      "See the caveats in the documentation: http://pandas.pydata.org/pandas-docs/stable/indexing.html#indexing-view-versus-copy\n"
     ]
    }
   ],
   "source": [
    "full_dict = merge_dicts(dict_insiders,stocks_dict)"
   ]
  },
  {
   "cell_type": "markdown",
   "metadata": {},
   "source": [
    "### plotting insider trades"
   ]
  },
  {
   "cell_type": "code",
   "execution_count": 347,
   "metadata": {},
   "outputs": [],
   "source": [
    "\n",
    "def plot_dict(insider_dict,stocks_dict):\n",
    "    \n",
    "    for item in insider_dict.keys():\n",
    "        \n",
    "        ticker = item\n",
    "        \n",
    "        if ticker not in stocks_dict.keys():\n",
    "            \n",
    "            raise ValueError('Keys must match in both dictionaries')\n",
    "            \n",
    "        else:\n",
    "            \n",
    "            stock_df = stocks_dict[ticker]\n",
    "            insider_df = insider_dict[ticker]\n",
    "            \n",
    "            sns.lineplot(x=stock_df.index,y=stock_df['Adj Close'])\n",
    "            for x in insider_df.index.tolist():\n",
    "                plt.axvline(x,linestyle='--',linewidth=0.1,c='b')\n",
    "                    \n",
    "        "
   ]
  },
  {
   "cell_type": "code",
   "execution_count": 348,
   "metadata": {},
   "outputs": [
    {
     "data": {
      "image/png": "[encoded data removed]",
      "text/plain": [
       "<Figure size 432x288 with 1 Axes>"
      ]
     },
     "metadata": {},
     "output_type": "display_data"
    }
   ],
   "source": [
    "plot_dict(dict_insiders,stocks_dict_pre)"
   ]
  },
  {
   "cell_type": "markdown",
   "metadata": {},
   "source": [
    "### fitting logistic models"
   ]
  },
  {
   "cell_type": "code",
   "execution_count": 354,
   "metadata": {},
   "outputs": [],
   "source": [
    "def logit_dict(x_dict):\n",
    "    fit_dict = {}\n",
    "    \n",
    "    for item in x_dict.keys():\n",
    "        \n",
    "        ticker = item\n",
    "        print(ticker)\n",
    "        df = x_dict[ticker]\n",
    "        \n",
    "        X = df[['shares_traded','sale_num','buy_num']]\n",
    "        Y = df.return_dummy\n",
    "        logit_model = sm.Logit(Y,X)\n",
    "        result = logit_model.fit()\n",
    "        \n",
    "        fit_dict[ticker]=result.summary2()\n",
    "        \n",
    "        \n",
    "    return fit_dict"
   ]
  },
  {
   "cell_type": "code",
   "execution_count": 364,
   "metadata": {},
   "outputs": [
    {
     "name": "stdout",
     "output_type": "stream",
     "text": [
      "CERN\n",
      "Optimization terminated successfully.\n",
      "         Current function value: 0.690904\n",
      "         Iterations 4\n",
      "ETFC\n",
      "Optimization terminated successfully.\n",
      "         Current function value: 0.689647\n",
      "         Iterations 6\n",
      "FAST\n",
      "Optimization terminated successfully.\n",
      "         Current function value: 0.683172\n",
      "         Iterations 4\n",
      "GRMN\n",
      "Warning: Maximum number of iterations has been exceeded.\n",
      "         Current function value: 0.688239\n",
      "         Iterations: 35\n",
      "ILMN\n",
      "Optimization terminated successfully.\n",
      "         Current function value: 0.682538\n",
      "         Iterations 20\n",
      "WLTW\n",
      "Optimization terminated successfully.\n",
      "         Current function value: 0.687934\n",
      "         Iterations 5\n",
      "CHTR\n",
      "Optimization terminated successfully.\n",
      "         Current function value: 0.689260\n",
      "         Iterations 6\n",
      "CTXS\n",
      "Optimization terminated successfully.\n",
      "         Current function value: 0.689543\n",
      "         Iterations 4\n",
      "NFLX\n",
      "Optimization terminated successfully.\n",
      "         Current function value: 0.685759\n",
      "         Iterations 5\n"
     ]
    },
    {
     "name": "stderr",
     "output_type": "stream",
     "text": [
      "/Users/mdrozdov/anaconda3/lib/python3.7/site-packages/statsmodels/base/model.py:508: ConvergenceWarning: Maximum Likelihood optimization failed to converge. Check mle_retvals\n",
      "  \"Check mle_retvals\", ConvergenceWarning)\n"
     ]
    }
   ],
   "source": [
    "models_dict = logit_dict(full_dict)\n"
   ]
  },
  {
   "cell_type": "code",
   "execution_count": 370,
   "metadata": {
    "scrolled": false
   },
   "outputs": [
    {
     "name": "stdout",
     "output_type": "stream",
     "text": [
      "CERN\n",
      "------------------------------\n",
      "                        Results: Logit\n",
      "===============================================================\n",
      "Model:              Logit            Pseudo R-squared: -0.001  \n",
      "Dependent Variable: return_dummy     AIC:              717.6309\n",
      "Date:               2019-07-08 19:33 BIC:              730.3634\n",
      "No. Observations:   515              Log-Likelihood:   -355.82 \n",
      "Df Model:           2                LL-Null:          -355.34 \n",
      "Df Residuals:       512              LLR p-value:      1.0000  \n",
      "Converged:          1.0000           Scale:            1.0000  \n",
      "No. Iterations:     4.0000                                     \n",
      "----------------------------------------------------------------\n",
      "               Coef.   Std.Err.    z     P>|z|    [0.025  0.975]\n",
      "----------------------------------------------------------------\n",
      "shares_traded  0.0000    0.0000  0.5611  0.5747  -0.0000  0.0000\n",
      "sale_num       0.1554    0.2153  0.7218  0.4704  -0.2665  0.5773\n",
      "buy_num        0.6294    1.2270  0.5129  0.6080  -1.7756  3.0344\n",
      "===============================================================\n",
      "\n",
      "******************************\n",
      "ETFC\n",
      "------------------------------\n",
      "                        Results: Logit\n",
      "===============================================================\n",
      "Model:              Logit            Pseudo R-squared: -0.001  \n",
      "Dependent Variable: return_dummy     AIC:              709.4401\n",
      "Date:               2019-07-08 19:33 BIC:              722.1433\n",
      "No. Observations:   510              Log-Likelihood:   -351.72 \n",
      "Df Model:           2                LL-Null:          -351.43 \n",
      "Df Residuals:       507              LLR p-value:      1.0000  \n",
      "Converged:          1.0000           Scale:            1.0000  \n",
      "No. Iterations:     6.0000                                     \n",
      "---------------------------------------------------------------\n",
      "                  Coef.  Std.Err.    z    P>|z|   [0.025 0.975]\n",
      "---------------------------------------------------------------\n",
      "shares_traded    -0.0000   0.0000 -1.0889 0.2762 -0.0000 0.0000\n",
      "sale_num         -0.0222   0.3473 -0.0641 0.9489 -0.7029 0.6584\n",
      "buy_num           0.6134   0.5178  1.1846 0.2362 -0.4014 1.6281\n",
      "===============================================================\n",
      "\n",
      "******************************\n",
      "FAST\n",
      "------------------------------\n",
      "                        Results: Logit\n",
      "===============================================================\n",
      "Model:              Logit            Pseudo R-squared: 0.007   \n",
      "Dependent Variable: return_dummy     AIC:              739.7270\n",
      "Date:               2019-07-08 19:33 BIC:              752.5850\n",
      "No. Observations:   537              Log-Likelihood:   -366.86 \n",
      "Df Model:           2                LL-Null:          -369.40 \n",
      "Df Residuals:       534              LLR p-value:      0.079259\n",
      "Converged:          1.0000           Scale:            1.0000  \n",
      "No. Iterations:     4.0000                                     \n",
      "---------------------------------------------------------------\n",
      "                 Coef.  Std.Err.    z    P>|z|   [0.025  0.975]\n",
      "---------------------------------------------------------------\n",
      "shares_traded   -0.0000   0.0000 -0.1597 0.8732 -0.0000  0.0000\n",
      "sale_num         0.5841   0.3708  1.5751 0.1152 -0.1427  1.3108\n",
      "buy_num         -0.6965   0.2710 -2.5699 0.0102 -1.2276 -0.1653\n",
      "===============================================================\n",
      "\n",
      "******************************\n",
      "GRMN\n",
      "------------------------------\n",
      "                            Results: Logit\n",
      "=======================================================================\n",
      "Model:                  Logit              Pseudo R-squared:   0.001   \n",
      "Dependent Variable:     return_dummy       AIC:                698.3688\n",
      "Date:                   2019-07-08 19:33   BIC:                711.0306\n",
      "No. Observations:       503                Log-Likelihood:     -346.18 \n",
      "Df Model:               2                  LL-Null:            -346.64 \n",
      "Df Residuals:           500                LLR p-value:        0.63570 \n",
      "Converged:              0.0000             Scale:              1.0000  \n",
      "No. Iterations:         35.0000                                        \n",
      "-----------------------------------------------------------------------\n",
      "               Coef.   Std.Err.    z    P>|z|     [0.025       0.975]  \n",
      "-----------------------------------------------------------------------\n",
      "shares_traded  0.0000     0.0000 0.7577 0.4486      -0.0000      0.0000\n",
      "sale_num       0.2333     0.2082 1.1205 0.2625      -0.1748      0.6414\n",
      "buy_num       22.5145 87211.9015 0.0003 0.9998 -170909.6714 170954.7004\n",
      "=======================================================================\n",
      "\n",
      "******************************\n",
      "ILMN\n",
      "------------------------------\n",
      "                                Results: Logit\n",
      "==============================================================================\n",
      "Model:                   Logit                 Pseudo R-squared:      0.001   \n",
      "Dependent Variable:      return_dummy          AIC:                   718.5700\n",
      "Date:                    2019-07-08 19:33      BIC:                   731.3430\n",
      "No. Observations:        522                   Log-Likelihood:        -356.29 \n",
      "Df Model:                2                     LL-Null:               -356.56 \n",
      "Df Residuals:            519                   LLR p-value:           0.75965 \n",
      "Converged:               1.0000                Scale:                 1.0000  \n",
      "No. Iterations:          20.0000                                              \n",
      "------------------------------------------------------------------------------\n",
      "               Coef.     Std.Err.     z    P>|z|      [0.025         0.975]   \n",
      "------------------------------------------------------------------------------\n",
      "shares_traded  0.0000        0.0000 0.9981 0.3182        -0.0000        0.0000\n",
      "sale_num       0.1798        0.1385 1.2986 0.1941        -0.0916        0.4512\n",
      "buy_num       36.0626 47453132.8121 0.0000 1.0000 -93006395.2028 93006467.3279\n",
      "==============================================================================\n",
      "\n",
      "******************************\n",
      "WLTW\n",
      "------------------------------\n",
      "                        Results: Logit\n",
      "===============================================================\n",
      "Model:              Logit            Pseudo R-squared: 0.001   \n",
      "Dependent Variable: return_dummy     AIC:              733.8337\n",
      "Date:               2019-07-08 19:33 BIC:              746.6467\n",
      "No. Observations:   529              Log-Likelihood:   -363.92 \n",
      "Df Model:           2                LL-Null:          -364.21 \n",
      "Df Residuals:       526              LLR p-value:      0.74396 \n",
      "Converged:          1.0000           Scale:            1.0000  \n",
      "No. Iterations:     5.0000                                     \n",
      "----------------------------------------------------------------\n",
      "               Coef.   Std.Err.    z     P>|z|    [0.025  0.975]\n",
      "----------------------------------------------------------------\n",
      "shares_traded  0.0000    0.0000  0.0881  0.9298  -0.0000  0.0000\n",
      "sale_num       0.3814    0.2671  1.4279  0.1533  -0.1421  0.9049\n",
      "buy_num        1.0382    0.8189  1.2677  0.2049  -0.5669  2.6433\n",
      "===============================================================\n",
      "\n",
      "******************************\n",
      "CHTR\n",
      "------------------------------\n",
      "                        Results: Logit\n",
      "===============================================================\n",
      "Model:              Logit            Pseudo R-squared: -0.007  \n",
      "Dependent Variable: return_dummy     AIC:              626.3344\n",
      "Date:               2019-07-08 19:33 BIC:              638.6621\n",
      "No. Observations:   450              Log-Likelihood:   -310.17 \n",
      "Df Model:           2                LL-Null:          -307.90 \n",
      "Df Residuals:       447              LLR p-value:      1.0000  \n",
      "Converged:          1.0000           Scale:            1.0000  \n",
      "No. Iterations:     6.0000                                     \n",
      "----------------------------------------------------------------\n",
      "               Coef.   Std.Err.    z     P>|z|    [0.025  0.975]\n",
      "----------------------------------------------------------------\n",
      "shares_traded  0.0000    0.0000  0.7863  0.4317  -0.0000  0.0000\n",
      "sale_num       0.3436    0.3075  1.1174  0.2638  -0.2591  0.9463\n",
      "buy_num        0.0668    0.5639  0.1184  0.9058  -1.0384  1.1720\n",
      "===============================================================\n",
      "\n",
      "******************************\n",
      "CTXS\n",
      "------------------------------\n",
      "                        Results: Logit\n",
      "===============================================================\n",
      "Model:              Logit            Pseudo R-squared: 0.000   \n",
      "Dependent Variable: return_dummy     AIC:              800.3540\n",
      "Date:               2019-07-08 19:33 BIC:              813.4223\n",
      "No. Observations:   576              Log-Likelihood:   -397.18 \n",
      "Df Model:           2                LL-Null:          -397.25 \n",
      "Df Residuals:       573              LLR p-value:      0.92919 \n",
      "Converged:          1.0000           Scale:            1.0000  \n",
      "No. Iterations:     4.0000                                     \n",
      "---------------------------------------------------------------\n",
      "                  Coef.  Std.Err.    z    P>|z|   [0.025 0.975]\n",
      "---------------------------------------------------------------\n",
      "shares_traded     0.0000   0.0000  0.1318 0.8951 -0.0000 0.0000\n",
      "sale_num          0.2805   0.1645  1.7053 0.0881 -0.0419 0.6028\n",
      "buy_num          -0.5326   1.0533 -0.5057 0.6131 -2.5971 1.5318\n",
      "===============================================================\n",
      "\n",
      "******************************\n",
      "NFLX\n",
      "------------------------------\n",
      "                        Results: Logit\n",
      "===============================================================\n",
      "Model:              Logit            Pseudo R-squared: 0.005   \n",
      "Dependent Variable: return_dummy     AIC:              721.9328\n",
      "Date:               2019-07-08 19:33 BIC:              734.7058\n",
      "No. Observations:   522              Log-Likelihood:   -357.97 \n",
      "Df Model:           2                LL-Null:          -359.61 \n",
      "Df Residuals:       519              LLR p-value:      0.19274 \n",
      "Converged:          1.0000           Scale:            1.0000  \n",
      "No. Iterations:     5.0000                                     \n",
      "---------------------------------------------------------------\n",
      "                  Coef.  Std.Err.    z    P>|z|   [0.025 0.975]\n",
      "---------------------------------------------------------------\n",
      "shares_traded     0.0000   0.0000  0.0481 0.9617 -0.0000 0.0000\n",
      "sale_num          0.2845   0.1289  2.2081 0.0272  0.0320 0.5371\n",
      "buy_num          -1.2046   1.3184 -0.9136 0.3609 -3.7887 1.3795\n",
      "===============================================================\n",
      "\n",
      "******************************\n"
     ]
    }
   ],
   "source": [
    "for key,value in models_dict.items():\n",
    "    print(key)\n",
    "    print('-'*30)\n",
    "    print(value)\n",
    "    print('*'*30)"
   ]
  }
 ],
 "metadata": {
  "kernelspec": {
   "display_name": "Python 3",
   "language": "python",
   "name": "python3"
  },
  "language_info": {
   "codemirror_mode": {
    "name": "ipython",
    "version": 3
   },
   "file_extension": ".py",
   "mimetype": "text/x-python",
   "name": "python",
   "nbconvert_exporter": "python",
   "pygments_lexer": "ipython3",
   "version": "3.7.3"
  }
 },
 "nbformat": 4,
 "nbformat_minor": 2
}
